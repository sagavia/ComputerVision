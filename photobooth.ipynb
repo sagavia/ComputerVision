{
 "cells": [
  {
   "cell_type": "markdown",
   "metadata": {},
   "source": [
    "## Photobooth\n",
    "\n",
    "- Takes a series of pictures from the webcam\n",
    "- Stores the pictures in the specified dataset\n",
    "- Gives the pictures the specified name and number"
   ]
  },
  {
   "cell_type": "code",
   "execution_count": 1,
   "metadata": {},
   "outputs": [],
   "source": [
    "from imutils.video import VideoStream\n",
    "import time\n",
    "import cv2\n",
    "import argparse\n",
    "from pathlib import Path"
   ]
  },
  {
   "cell_type": "code",
   "execution_count": null,
   "metadata": {},
   "outputs": [],
   "source": [
    "#use the following to run from the command line\n",
    "''' ap = argparse.ArgumentParser()\n",
    "    ap.add_argument(\"-d\", \"--dataset\", required=True,\n",
    "                    help=\"path to root dataset directory. A directory with name parameter will be created\")\n",
    "    ap.add_argument(\"-n\", \"--name\", required=True, help=\"Name of person\")\n",
    "    ap.add_argument(\"-c\", \"--count\", required=True, help=\"Number of pictures take\")\n",
    "    args = vars(ap.parse_args())'''"
   ]
  },
  {
   "cell_type": "code",
   "execution_count": 2,
   "metadata": {},
   "outputs": [],
   "source": [
    "def show_frame(frame, count, msg):\n",
    "    width, height = frame.shape[:2]\n",
    "    cv2.putText(frame, f\"CountDown: {str(count)}: {msg}\", (width // 2, height // 2), cv2.FONT_HERSHEY_SIMPLEX, 1, (0, 255, 0), 2)\n",
    "    cv2.imshow(\"PhotoBooth\", frame)\n",
    "\n",
    "    key = cv2.waitKey(3) & 0xFF"
   ]
  },
  {
   "cell_type": "code",
   "execution_count": 4,
   "metadata": {},
   "outputs": [],
   "source": [
    "dataset = 'images'  # may be a complete path\n",
    "name = 'someone'  # who is the facxew to be stored\n",
    "count = 10"
   ]
  },
  {
   "cell_type": "code",
   "execution_count": 5,
   "metadata": {},
   "outputs": [],
   "source": [
    "vs = VideoStream(src=0).start()\n",
    "time.sleep(0.2)\n",
    "\n",
    "data_path = Path(dataset)\n",
    "data_path =  data_path / name\n",
    "data_path.mkdir(parents=True, exist_ok=True)"
   ]
  },
  {
   "cell_type": "code",
   "execution_count": 12,
   "metadata": {},
   "outputs": [
    {
     "name": "stdout",
     "output_type": "stream",
     "text": [
      "Grab image: 0\n",
      "Grab image: 1\n",
      "Grab image: 2\n",
      "Grab image: 3\n",
      "Grab image: 4\n",
      "Grab image: 5\n",
      "Grab image: 6\n",
      "Grab image: 7\n",
      "Grab image: 8\n",
      "Grab image: 9\n"
     ]
    }
   ],
   "source": [
    "# loop over frames from the video file stream\n",
    "for i in range(0, int(count)):\n",
    "    count_down = 3\n",
    "    print(f\"Grab image: {i}\")\n",
    "    count_down_time = time.time()\n",
    "    frame = vs.read()\n",
    "    show_frame(frame, str(count_down), f\"Picture {i+1} of {count}\")\n",
    "    while True:\n",
    "        # grab the frame from the threaded video stream\n",
    "        frame = vs.read()\n",
    "        if time.time() - count_down_time > 1:\n",
    "            count_down -= 1\n",
    "            if count_down > 0:\n",
    "               count_down_time = time.time()\n",
    "               show_frame(frame, count_down, f\"Picture {i+1} of {count}\")\n",
    "            else:\n",
    "                new_image_file = data_path / f\"name_{i}.png\"\n",
    "                cv2.imwrite(str(new_image_file.absolute()), frame)\n",
    "                break\n",
    "cv2.destroyAllWindows()"
   ]
  },
  {
   "cell_type": "code",
   "execution_count": 14,
   "metadata": {},
   "outputs": [],
   "source": []
  },
  {
   "cell_type": "code",
   "execution_count": null,
   "metadata": {},
   "outputs": [],
   "source": []
  }
 ],
 "metadata": {
  "kernelspec": {
   "display_name": "Python 3",
   "language": "python",
   "name": "python3"
  },
  "language_info": {
   "codemirror_mode": {
    "name": "ipython",
    "version": 3
   },
   "file_extension": ".py",
   "mimetype": "text/x-python",
   "name": "python",
   "nbconvert_exporter": "python",
   "pygments_lexer": "ipython3",
   "version": "3.7.6"
  }
 },
 "nbformat": 4,
 "nbformat_minor": 4
}
